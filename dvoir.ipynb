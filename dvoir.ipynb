{
 "cells": [
  {
   "cell_type": "code",
   "execution_count": 3,
   "metadata": {},
   "outputs": [
    {
     "name": "stdout",
     "output_type": "stream",
     "text": [
      "1 * 2 = 2\n",
      "2 * 2 = 4\n",
      "3 * 2 = 6\n",
      "4 * 2 = 8\n",
      "5 * 2 = 10\n",
      "6 * 2 = 12\n",
      "7 * 2 = 14\n",
      "8 * 2 = 16\n",
      "9 * 2 = 18\n",
      "10 * 2 = 20\n"
     ]
    }
   ],
   "source": [
    " Exercice1\n",
    "  1-  \n",
    "    #Création de la liste de nombre de 1 à 10\n",
    "liste_nombres = list(range(1,11))\n",
    "#Afiichage de chaque nombre multiplié par 2\n",
    "for nombre in liste_nombres:\n",
    "    resultat = nombre * 2\n",
    "    print(f\"{nombre} * 2 = {resultat}\")"
   ]
  },
  {
   "cell_type": "code",
   "execution_count": 7,
   "metadata": {},
   "outputs": [
    {
     "name": "stdout",
     "output_type": "stream",
     "text": [
      "la longueur de Aminata est : 7\n",
      "la longueur de Eva est : 3\n",
      "la longueur de Alpha est : 5\n",
      "la longueur de Aicha est : 5\n"
     ]
    }
   ],
   "source": [
    "2-\n",
    "#Création d'une liste de noms\n",
    "liste_noms=[\"Aminata\", \"Eva\", \"Alpha\", \"Aicha\"]\n",
    "\n",
    "#Affichage de la longueur de chaque nom\n",
    "for nom in liste_noms:\n",
    "    longueur = len(nom)\n",
    "    print(f\"la longueur de {nom} est : {longueur}\")"
   ]
  },
  {
   "cell_type": "code",
   "execution_count": 10,
   "metadata": {},
   "outputs": [
    {
     "name": "stdout",
     "output_type": "stream",
     "text": [
      "liste d'origine : [1, 2, 3, 4, 5]\n",
      "liste avec carré des éléments : [1, 4, 9, 16, 25]\n"
     ]
    }
   ],
   "source": [
    "3-\n",
    "def carre_elements(liste):\n",
    "    \"\"\"\n",
    "    prend une liste en entrée et renvoie une nouvelle liste contenant le carré de chaque élément.\n",
    "    \"\"\"\n",
    "    resultat = [element **2 for element in liste]\n",
    "    return resultat\n",
    "#exemple d'utilisation de la fonction\n",
    "ma_liste = [1, 2, 3, 4, 5]\n",
    "resultat_carre = carre_elements(ma_liste)\n",
    "\n",
    "print(f\"liste d'origine : {ma_liste}\")\n",
    "print(f\"liste avec carré des éléments : {resultat_carre}\")      "
   ]
  },
  {
   "cell_type": "code",
   "execution_count": 11,
   "metadata": {},
   "outputs": [
    {
     "name": "stdout",
     "output_type": "stream",
     "text": [
      "liste d'origine : [4, 2, 9, 1, 6, 9, 7, 5, 10, 9]\n",
      "nombres supérieurs à 5 : [9, 6, 9, 7, 10, 9]\n"
     ]
    }
   ],
   "source": [
    "4-\n",
    "import random\n",
    "#création d'une liste de 10 nombres aléatoires entre 1 à 10\n",
    "liste_nombres = [random.randint(1, 10) for _ in range(10)]\n",
    "\n",
    "#qffichqge de lq liste d4origine\n",
    "print(\"liste d'origine :\", liste_nombres)\n",
    "\n",
    "#affichage des nombres supérieurs à 5\n",
    "nombres_sup_5 = [nombre for nombre in liste_nombres if nombre > 5]\n",
    "print(\"nombres supérieurs à 5 :\", nombres_sup_5)"
   ]
  },
  {
   "cell_type": "code",
   "execution_count": 1,
   "metadata": {},
   "outputs": [],
   "source": [
    "5-\n",
    "def trouver_plus_longue(liste_chaines):\n",
    "    \"\"\"\n",
    "    prend une liste de chaines de caractères en entrée et affiche la plus longue.\n",
    "    \"\"\"\n",
    "    if not liste_chaines:\n",
    "        print(\"la liste est vide\")\n",
    "        return none\n",
    "    \n",
    "    plus_longue = max(liste_chaines, key=len)\n",
    "    print(f\"la plus longue chaine est : {plus_longue}\")\n",
    "    \n",
    "    #exemple d'utilisation de la fonction\n",
    "    liste_chaines = [\"Thiam\", \"Ba\", \"Barry\", \"Diallo\"]\n",
    "    trouver_plus_longue(liste_chaines)"
   ]
  },
  {
   "cell_type": "code",
   "execution_count": 13,
   "metadata": {},
   "outputs": [
    {
     "name": "stdout",
     "output_type": "stream",
     "text": [
      "liste 1 : [1, 2, 3, 4, 5]\n",
      "liste 2 : [3, 4, 5, 6, 7]\n",
      "éléments communs : [3, 4, 5]\n"
     ]
    }
   ],
   "source": [
    "exercice2\n",
    "1-\n",
    "def elements_communs(liste1, liste2):\n",
    "    \"\"\"\n",
    "    prend deux listes en entrée et renvoie une nouvelle liste contenant les éléments communs.\n",
    "    \"\"\"\n",
    "    return list(set(liste1)& set(liste2))\n",
    "\n",
    "#exemple d'utilisation de la fonction \n",
    "liste1= [1, 2, 3, 4, 5]\n",
    "liste2= [3, 4, 5, 6, 7]\n",
    "\n",
    "resultat_communs = elements_communs(liste1, liste2)\n",
    "\n",
    "print(f\"liste 1 : {liste1}\")\n",
    "print(f\"liste 2 : {liste2}\")\n",
    "print(f\"éléments communs : {resultat_communs}\")"
   ]
  },
  {
   "cell_type": "code",
   "execution_count": 14,
   "metadata": {},
   "outputs": [
    {
     "name": "stdout",
     "output_type": "stream",
     "text": [
      "entrez un nombre : 2\n",
      "le nombre 2 est pair. \n"
     ]
    }
   ],
   "source": [
    "2-\n",
    "\n",
    "def determiner_parite(nombre):\n",
    "    \"\"\"\n",
    "    prend un nombre en entrée et renvoie \"pair\" ou \"impair\"\n",
    "    \"\"\"\n",
    "    if nombre % 2 == 0:\n",
    "        return \"pair\"\n",
    "    else:\n",
    "        return \"impair\"\n",
    " #exemple d'utilisation de la fonction\n",
    "nombre_entier = int(input(\"entrez un nombre : \"))\n",
    "\n",
    "resultat_parite = determiner_parite(nombre_entier)\n",
    "print(f\"le nombre {nombre_entier} est {resultat_parite}. \")"
   ]
  },
  {
   "cell_type": "code",
   "execution_count": 15,
   "metadata": {},
   "outputs": [
    {
     "name": "stdout",
     "output_type": "stream",
     "text": [
      "la somme des éléments de la liste est : 15\n"
     ]
    }
   ],
   "source": [
    "3-\n",
    "def somme_elements(liste):\n",
    "    \"\"\"\n",
    "    prend une liste de nombres entiers en entrée et renvoie la somme\n",
    "    \"\"\"\n",
    "    return sum(liste)\n",
    "\n",
    "#exemple d'utilisation de la fonction\n",
    "liste_nombres = [1, 2, 3, 4, 5]\n",
    "\n",
    "resultat_somme = somme_elements(liste_nombres)\n",
    "print(f\"la somme des éléments de la liste est : {resultat_somme}\")"
   ]
  },
  {
   "cell_type": "code",
   "execution_count": 16,
   "metadata": {},
   "outputs": [
    {
     "name": "stdout",
     "output_type": "stream",
     "text": [
      "liste d'origine : ['html', 'java', 'programmation', 'liste']\n",
      " premiere lettre de chaque mot : ['h', 'j', 'p', 'l']\n"
     ]
    }
   ],
   "source": [
    "4-\n",
    "def premiere_lettre_mots(liste_mots):\n",
    "    \"\"\"\n",
    "    prend une liste de mots en entrée et renvoie une nouvelle liste contenant la première lettre de chaque mot.\n",
    "    \"\"\"\n",
    "    return [mot[0] for mot in liste_mots]\n",
    "#exemple d'utilisation de la fonction\n",
    "liste_mots = [\"html\", \"java\", \"programmation\", \"liste\"]\n",
    "\n",
    "resultat_premiere_lettre = premiere_lettre_mots(liste_mots)\n",
    "print(f\"liste d'origine : {liste_mots}\")\n",
    "print(f\" premiere lettre de chaque mot : {resultat_premiere_lettre}\")"
   ]
  },
  {
   "cell_type": "code",
   "execution_count": 2,
   "metadata": {},
   "outputs": [],
   "source": [
    "5-\n",
    "def supprimer_voyelles(chaines):\n",
    "    \"\"\"\n",
    "    prend une chaine de caractères en entrée et renvoie la meme chaine sans les voyelles.\n",
    "    \"\"\"\n",
    "    voyelles = \"aeiouAEIOU\"\n",
    "    chaine_sans_voyelles = ''.join(caractere for caractere in chaine if caractere not in voyelles)\n",
    "    return chaine_sans_voyelles\n",
    " #utilisation de la fonction\n",
    "    chaine_originale = \"python est un langage de programmation\"\n",
    "    \n",
    "    resulta_sans_voyelles = supprimer_voyelles(chaine_original)\n",
    "    print(f\"chaine originale : {chaine_original}\")\n",
    "    print(f\"chaine sans voyelles : {resultat_sans_voyelles}\")"
   ]
  },
  {
   "cell_type": "code",
   "execution_count": 19,
   "metadata": {},
   "outputs": [
    {
     "name": "stdout",
     "output_type": "stream",
     "text": [
      "Liste de nombres : [3, 1, 7, 5, 9, 2, 8, 4, 6]\n",
      "Médiane : 5\n"
     ]
    }
   ],
   "source": [
    "exercice3\n",
    "1-\n",
    "def calculer_mediane(liste_nombres):\n",
    "    \"\"\"\n",
    "    Prend une liste de nombres en entrée et renvoie la médiane.\n",
    "    \"\"\"\n",
    "    liste_triee = sorted(liste_nombres)\n",
    "    taille = len(liste_triee)\n",
    "    \n",
    "    if taille % 2 == 0:\n",
    "        # Si la taille de la liste est paire, la médiane est la moyenne des deux nombres du milieu\n",
    "        indice1 = taille // 2 - 1\n",
    "        indice2 = taille // 2\n",
    "        mediane = (liste_triee[indice1] + liste_triee[indice2]) / 2\n",
    "    else:\n",
    "        # Si la taille de la liste est impaire, la médiane est le nombre du milieu\n",
    "        indice_mediane = taille // 2\n",
    "        mediane = liste_triee[indice_mediane]\n",
    "\n",
    "    return mediane\n",
    "\n",
    "# Exemple d'utilisation de la fonction\n",
    "liste_nombres = [3, 1, 7, 5, 9, 2, 8, 4, 6]\n",
    "\n",
    "resultat_mediane = calculer_mediane(liste_nombres)\n",
    "print(f\"Liste de nombres : {liste_nombres}\")\n",
    "print(f\"Médiane : {resultat_mediane}\")\n",
    "\n",
    "    "
   ]
  },
  {
   "cell_type": "code",
   "execution_count": 20,
   "metadata": {},
   "outputs": [
    {
     "name": "stdout",
     "output_type": "stream",
     "text": [
      "Liste d'origine : ['python', 'programmation', 'exemple', 'liste', 'courte', 'longue']\n",
      "Chaînes de plus de 5 caractères : ['python', 'programmation', 'exemple', 'courte', 'longue']\n"
     ]
    }
   ],
   "source": [
    "2-\n",
    "def filtre_longueur_chaines(liste_chaines):\n",
    "    \"\"\"\n",
    "    Prend une liste de chaînes de caractères en entrée et renvoie une nouvelle liste contenant\n",
    "    uniquement les chaînes de caractères de plus de 5 caractères.\n",
    "    \"\"\"\n",
    "    return [chaine for chaine in liste_chaines if len(chaine) > 5]\n",
    "\n",
    "# Exemple d'utilisation de la fonction\n",
    "liste_chaines = [\"python\", \"programmation\", \"exemple\", \"liste\", \"courte\", \"longue\"]\n",
    "\n",
    "resultat_filtre = filtre_longueur_chaines(liste_chaines)\n",
    "print(f\"Liste d'origine : {liste_chaines}\")\n",
    "print(f\"Chaînes de plus de 5 caractères : {resultat_filtre}\")"
   ]
  },
  {
   "cell_type": "code",
   "execution_count": 21,
   "metadata": {},
   "outputs": [
    {
     "name": "stdout",
     "output_type": "stream",
     "text": [
      "Liste de nombres : [1, 2, 3, 4, 5]\n",
      "Moyenne : 3.0\n"
     ]
    }
   ],
   "source": [
    "3-\n",
    "# Création d'une liste de nombres\n",
    "liste_nombres = [1, 2, 3, 4, 5]\n",
    "\n",
    "# Calcul de la moyenne sans utiliser la fonction 'sum'\n",
    "total = 0\n",
    "nombre_elements = 0\n",
    "\n",
    "for nombre in liste_nombres:\n",
    "    total += nombre\n",
    "    nombre_elements += 1\n",
    "\n",
    "# Vérification pour éviter la division par zéro\n",
    "if nombre_elements > 0:\n",
    "    moyenne = total / nombre_elements\n",
    "    print(f\"Liste de nombres : {liste_nombres}\")\n",
    "    print(f\"Moyenne : {moyenne}\")\n",
    "else:\n",
    "    print(\"La liste est vide.\")"
   ]
  },
  {
   "cell_type": "code",
   "execution_count": 22,
   "metadata": {},
   "outputs": [
    {
     "name": "stdout",
     "output_type": "stream",
     "text": [
      "Liste d'origine : [1, 2, 3, 4, 5]\n",
      "Liste inversée : [5, 4, 3, 2, 1]\n"
     ]
    }
   ],
   "source": [
    "4-\n",
    "def inverser_liste(liste):\n",
    "    \"\"\"\n",
    "    Prend une liste en entrée et renvoie la liste inversée.\n",
    "    \"\"\"\n",
    "    return liste[::-1]\n",
    "\n",
    "# Exemple d'utilisation de la fonction\n",
    "ma_liste = [1, 2, 3, 4, 5]\n",
    "\n",
    "liste_inverse = inverser_liste(ma_liste)\n",
    "print(f\"Liste d'origine : {ma_liste}\")\n",
    "print(f\"Liste inversée : {liste_inverse}\")"
   ]
  },
  {
   "cell_type": "code",
   "execution_count": 23,
   "metadata": {},
   "outputs": [
    {
     "name": "stdout",
     "output_type": "stream",
     "text": [
      "Liste de noms : ['Alice', 'Bob', 'Charlie', 'David', 'Eve', 'Mallory', 'Grace']\n",
      "Noms contenant la lettre 'a' : ['Alice', 'Charlie', 'David', 'Mallory', 'Grace']\n"
     ]
    }
   ],
   "source": [
    "5-\n",
    "# Création d'une liste de noms\n",
    "liste_noms = [\"Alice\", \"Bob\", \"Charlie\", \"David\", \"Eve\", \"Mallory\", \"Grace\"]\n",
    "\n",
    "# Affichage des noms contenant la lettre 'a'\n",
    "noms_avec_a = [nom for nom in liste_noms if 'a' in nom.lower()]\n",
    "\n",
    "print(f\"Liste de noms : {liste_noms}\")\n",
    "print(f\"Noms contenant la lettre 'a' : {noms_avec_a}\")"
   ]
  },
  {
   "cell_type": "code",
   "execution_count": 24,
   "metadata": {},
   "outputs": [
    {
     "name": "stdout",
     "output_type": "stream",
     "text": [
      "Liste d'origine : [1, 2, 3, 2, 4, 5, 6, 1, 3]\n",
      "Liste sans doublons : [1, 2, 3, 4, 5, 6]\n"
     ]
    }
   ],
   "source": [
    "exercice4\n",
    "1-\n",
    "def supprimer_doublons(liste):\n",
    "    \"\"\"\n",
    "    Prend une liste en entrée et renvoie une nouvelle liste sans les éléments en doublon.\n",
    "    \"\"\"\n",
    "    return list(set(liste))\n",
    "\n",
    "# Exemple d'utilisation de la fonction\n",
    "ma_liste = [1, 2, 3, 2, 4, 5, 6, 1, 3]\n",
    "\n",
    "liste_sans_doublons = supprimer_doublons(ma_liste)\n",
    "print(f\"Liste d'origine : {ma_liste}\")\n",
    "print(f\"Liste sans doublons : {liste_sans_doublons}\")"
   ]
  },
  {
   "cell_type": "code",
   "execution_count": 4,
   "metadata": {},
   "outputs": [
    {
     "ename": "IndentationError",
     "evalue": "unindent does not match any outer indentation level (<tokenize>, line 19)",
     "output_type": "error",
     "traceback": [
      "\u001b[1;36m  File \u001b[1;32m\"<tokenize>\"\u001b[1;36m, line \u001b[1;32m19\u001b[0m\n\u001b[1;33m    nombres_premiers = [nombre for nombre in range (2, jusqu_a + 1) if est_premier[nombre]]\u001b[0m\n\u001b[1;37m    ^\u001b[0m\n\u001b[1;31mIndentationError\u001b[0m\u001b[1;31m:\u001b[0m unindent does not match any outer indentation level\n"
     ]
    }
   ],
   "source": [
    "2-\n",
    "def generer_nombres_premiers(jusqu_a):\n",
    "    \"\"\"\n",
    "    Génère une liste de nombres premiers jusqu'à un nombre donné en utilisant le crible d'Ératosthène.\n",
    "    \"\"\"\n",
    "    if jusqu_a < 2:\n",
    "        return []\n",
    "\n",
    "    # Créer une liste de booléens initialement tous à True\n",
    "    est_premier = [True] * (jusqu_a + 1)\n",
    "    est_premier[0] = est_premier[1] = False  # 0 et 1 ne sont pas premiers\n",
    "\n",
    "    # Appliquer le crible d'Ératosthène\n",
    "    for nombre in range(2, int(jusqu_a**0.5) + 1):\n",
    "        if est_premier[nombre]:\n",
    "            for multiple in range(nombre**2, jusqu_a + 1, nombre):\n",
    "                est_premier[multiple] = False\n",
    "\n",
    "    # Extraire les nombres premiers de la liste\n",
    "     nombres_premiers = [nombre for nombre in range(2, jusqu_a + 1) if est_premier[nombre]]\n",
    "    \n",
    "    return nombres_premiers\n",
    "\n",
    "# Exemple d'utilisation de la fonction\n",
    "limite_sup = 30\n",
    "liste_premiers = generer_nombres_premiers(limite_sup)\n",
    "print(f\"Liste de nombres premiers jusqu'à {limite_sup} : {liste_premiers}\")"
   ]
  },
  {
   "cell_type": "code",
   "execution_count": 27,
   "metadata": {},
   "outputs": [
    {
     "name": "stdout",
     "output_type": "stream",
     "text": [
      "Liste d'origine : [1, 2, 3, 4, 5]\n",
      "Liste multipliée par 3 : [3, 6, 9, 12, 15]\n"
     ]
    }
   ],
   "source": [
    "3-\n",
    "# Définir une fonction de multiplication par 3\n",
    "def multiplier_par_trois(nombre):\n",
    "    return nombre * 3\n",
    "\n",
    "# Créer une liste de nombres\n",
    "liste_nombres = [1, 2, 3, 4, 5]\n",
    "\n",
    "# Utiliser la fonction map pour appliquer la multiplication par 3 à chaque élément de la liste\n",
    "resultat_multiplie_par_trois = list(map(multiplier_par_trois, liste_nombres))\n",
    "\n",
    "# Afficher les résultats\n",
    "print(f\"Liste d'origine : {liste_nombres}\")\n",
    "print(f\"Liste multipliée par 3 : {resultat_multiplie_par_trois}\")"
   ]
  },
  {
   "cell_type": "code",
   "execution_count": 28,
   "metadata": {},
   "outputs": [
    {
     "name": "stdout",
     "output_type": "stream",
     "text": [
      "Fréquence d'apparition des lettres :\n",
      "a: 0.0000\n",
      "b: 0.0417\n",
      "c: 0.0000\n",
      "d: 0.0833\n",
      "e: 0.1250\n",
      "f: 0.0000\n",
      "g: 0.0000\n",
      "h: 0.0417\n",
      "i: 0.0000\n",
      "j: 0.0417\n",
      "k: 0.0000\n",
      "l: 0.1667\n",
      "m: 0.0417\n",
      "n: 0.0833\n",
      "o: 0.2083\n",
      "p: 0.0000\n",
      "q: 0.0000\n",
      "r: 0.0833\n",
      "s: 0.0000\n",
      "t: 0.0000\n",
      "u: 0.0417\n",
      "v: 0.0000\n",
      "w: 0.0417\n",
      "x: 0.0000\n",
      "y: 0.0000\n",
      "z: 0.0000\n"
     ]
    }
   ],
   "source": [
    "exercice5\n",
    "def frequence_apparition_lettres(texte):\n",
    "    \"\"\"\n",
    "    Calcule la fréquence d'apparition de chaque lettre dans un texte en anglais ou en français.\n",
    "    Retourne un dictionnaire avec les lettres de l'alphabet comme clés et les fréquences comme valeurs.\n",
    "    \"\"\"\n",
    "    # Initialiser le dictionnaire avec toutes les lettres de l'alphabet et une fréquence initiale de 0\n",
    "    alphabet = 'abcdefghijklmnopqrstuvwxyz'\n",
    "    frequence_lettres = {lettre: 0 for lettre in alphabet}\n",
    "\n",
    "    # Convertir le texte en minuscules pour éviter la distinction entre majuscules et minuscules\n",
    "    texte = texte.lower()\n",
    "\n",
    "    # Calculer la fréquence d'apparition de chaque lettre\n",
    "    total_caracteres = 0\n",
    "    for caractere in texte:\n",
    "        if caractere.isalpha():  # Ignorer les caractères non alphabétiques\n",
    "            frequence_lettres[caractere] += 1\n",
    "            total_caracteres += 1\n",
    "            \n",
    "     # Calculer les fréquences normalisées\n",
    "    for lettre in frequence_lettres:\n",
    "        frequence_lettres[lettre] /= total_caracteres\n",
    "\n",
    "    return frequence_lettres\n",
    "\n",
    "# Exemple d'utilisation de la fonction\n",
    "texte_exemple = \"Hello, World! Bonjour le monde !\"\n",
    "resultat_frequence = frequence_apparition_lettres(texte_exemple)\n",
    "\n",
    "print(\"Fréquence d'apparition des lettres :\")\n",
    "for lettre, frequence in resultat_frequence.items():\n",
    "    print(f\"{lettre}: {frequence:.4f}\")       \n"
   ]
  },
  {
   "cell_type": "code",
   "execution_count": null,
   "metadata": {},
   "outputs": [],
   "source": []
  }
 ],
 "metadata": {
  "kernelspec": {
   "display_name": "Python 3",
   "language": "python",
   "name": "python3"
  },
  "language_info": {
   "codemirror_mode": {
    "name": "ipython",
    "version": 3
   },
   "file_extension": ".py",
   "mimetype": "text/x-python",
   "name": "python",
   "nbconvert_exporter": "python",
   "pygments_lexer": "ipython3",
   "version": "3.7.4"
  }
 },
 "nbformat": 4,
 "nbformat_minor": 2
}
